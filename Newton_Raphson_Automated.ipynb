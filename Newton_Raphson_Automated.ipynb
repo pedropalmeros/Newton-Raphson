{
 "cells": [
  {
   "cell_type": "markdown",
   "metadata": {},
   "source": [
    "# Newton-Raphson\n",
    "\n",
    "Sea la función $f(x)= 2x^2+\\cos^2(3x)-7x$\n",
    "\n",
    "encontrar la raíz de la fucnión utilizando el método de Newton-Raphson"
   ]
  },
  {
   "cell_type": "code",
   "execution_count": null,
   "metadata": {},
   "outputs": [],
   "source": [
    "import matplotlib.pyplot as plt\n",
    "import math\n",
    "plt.style.use('classic')\n",
    "\n",
    "%matplotlib inline"
   ]
  },
  {
   "cell_type": "markdown",
   "metadata": {},
   "source": [
    "Se define una función que evalúe \n",
    "\n",
    " $f(x)= 2x^2+\\cos^2(3x)-7x$\n"
   ]
  },
  {
   "cell_type": "code",
   "execution_count": null,
   "metadata": {},
   "outputs": [],
   "source": [
    "def f(x):\n",
    "    return (2*(x**2))+(math.cos(3*x))**2-7*x"
   ]
  },
  {
   "cell_type": "markdown",
   "metadata": {},
   "source": [
    "Se define una función que evalúe\n",
    "\n",
    "$f'(x) = 4x-6\\cos(3x)\\sin(3x) -7$"
   ]
  },
  {
   "cell_type": "code",
   "execution_count": null,
   "metadata": {},
   "outputs": [],
   "source": [
    "def f_dot(x):\n",
    "    return 4*x-6*math.cos(3*x)*math.sin(3*x)-7"
   ]
  },
  {
   "cell_type": "code",
   "execution_count": null,
   "metadata": {},
   "outputs": [],
   "source": [
    "def NewtonRaphson(x_init,max_iter = 50, error = 0.00001):\n",
    "    x_vec = []\n",
    "    e_vec = []\n",
    "    x_vec.append(x_init)\n",
    "    e_vec.append(1)\n",
    "    i = 0\n",
    "    while i <= max_iter:\n",
    "        f_actual = f(x_vec[i])\n",
    "        f_prima_actual = f_dot(x_vec[i])\n",
    "        x_1_i = x_vec[i] - (f_actual/f_prima_actual)\n",
    "        x_vec.append(x_1_i)\n",
    "        \n",
    "        e_act = abs(x_vec[i+1]-x_vec[i])\n",
    "        e_vec.append(e_act)\n",
    "        if(e_act <= error):\n",
    "            break\n",
    "        i +=1\n",
    "    \n",
    "    return [x_vec,e_vec]\n",
    "        \n",
    "        "
   ]
  },
  {
   "cell_type": "code",
   "execution_count": null,
   "metadata": {},
   "outputs": [],
   "source": [
    "x0 = 0\n",
    "x,e=NewtonRaphson(x0)"
   ]
  },
  {
   "cell_type": "code",
   "execution_count": null,
   "metadata": {},
   "outputs": [],
   "source": [
    "plt.plot(x)\n",
    "plt.plot(e)\n",
    "plt.grid(True)\n",
    "plt.xlabel('Iteraciones')\n",
    "plt.show()"
   ]
  },
  {
   "cell_type": "code",
   "execution_count": null,
   "metadata": {},
   "outputs": [],
   "source": [
    "print(x)"
   ]
  },
  {
   "cell_type": "code",
   "execution_count": null,
   "metadata": {},
   "outputs": [],
   "source": []
  }
 ],
 "metadata": {
  "kernelspec": {
   "display_name": "Python 3",
   "language": "python",
   "name": "python3"
  },
  "language_info": {
   "codemirror_mode": {
    "name": "ipython",
    "version": 3
   },
   "file_extension": ".py",
   "mimetype": "text/x-python",
   "name": "python",
   "nbconvert_exporter": "python",
   "pygments_lexer": "ipython3",
   "version": "3.8.6"
  }
 },
 "nbformat": 4,
 "nbformat_minor": 4
}
