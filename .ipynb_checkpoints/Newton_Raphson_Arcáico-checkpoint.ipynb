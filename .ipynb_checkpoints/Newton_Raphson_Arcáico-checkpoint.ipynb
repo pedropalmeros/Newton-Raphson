{
 "cells": [
  {
   "cell_type": "markdown",
   "id": "dress-gathering",
   "metadata": {},
   "source": [
    "# Newton-Raphson\n",
    "\n",
    "Sea la función $f(x)= 2x^2+\\cos^2(3x)-7x$\n",
    "\n",
    "encontrar la raíz de la fucnión utilizando el método de Newton-Raphson"
   ]
  },
  {
   "cell_type": "code",
   "execution_count": null,
   "id": "normal-circular",
   "metadata": {},
   "outputs": [],
   "source": [
    "import matplotlib.pyplot as plt\n",
    "import math\n",
    "plt.style.use('classic')\n",
    "\n",
    "%matplotlib inline"
   ]
  },
  {
   "cell_type": "markdown",
   "id": "engaged-investment",
   "metadata": {},
   "source": [
    "Se define una función que evalúe \n",
    "\n",
    " $f(x)= 2x^2+\\cos^2(3x)-7x$"
   ]
  },
  {
   "cell_type": "code",
   "execution_count": null,
   "id": "sticky-painting",
   "metadata": {},
   "outputs": [],
   "source": [
    "def f(x):\n",
    "    return (2*(x**2))+(math.cos(3*x))**2-7*x"
   ]
  },
  {
   "cell_type": "markdown",
   "id": "processed-saver",
   "metadata": {},
   "source": [
    "Se define una función que evalúe\n",
    "\n",
    "$f'(x) = 4x-6\\cos(3x)\\sin(3x) -7$"
   ]
  },
  {
   "cell_type": "code",
   "execution_count": null,
   "id": "competitive-poland",
   "metadata": {},
   "outputs": [],
   "source": [
    "def f_dot(x):\n",
    "    return 4*x-6*math.cos(3*x)*math.sin(3*x)-7"
   ]
  },
  {
   "cell_type": "markdown",
   "id": "right-cattle",
   "metadata": {},
   "source": [
    "Creando vector para almacenar el valor de x(raíces), e(errores), también se crea una variable cuenta=0"
   ]
  },
  {
   "cell_type": "code",
   "execution_count": null,
   "id": "important-muscle",
   "metadata": {},
   "outputs": [],
   "source": [
    "x_vec = []\n",
    "e_vec = []\n",
    "i = 0"
   ]
  },
  {
   "cell_type": "markdown",
   "id": "bibliographic-proportion",
   "metadata": {},
   "source": [
    "Se define el valor de $x_0=10$ "
   ]
  },
  {
   "cell_type": "code",
   "execution_count": null,
   "id": "appropriate-highlight",
   "metadata": {},
   "outputs": [],
   "source": [
    "x_init = 10"
   ]
  },
  {
   "cell_type": "markdown",
   "id": "equivalent-perspective",
   "metadata": {},
   "source": [
    "Agregando elementos a los vectores   \n",
    "x_vec\\[10\\]  \n",
    "e_vec\\[1\\]\n",
    "i = 0"
   ]
  },
  {
   "cell_type": "code",
   "execution_count": null,
   "id": "annual-storage",
   "metadata": {},
   "outputs": [],
   "source": [
    "x_vec.append(x_init)\n",
    "e_vec.append(1)"
   ]
  },
  {
   "cell_type": "markdown",
   "id": "annoying-peace",
   "metadata": {},
   "source": [
    "## Iteraciones"
   ]
  },
  {
   "cell_type": "markdown",
   "id": "macro-ebony",
   "metadata": {},
   "source": [
    "Calculando f(x_i) y f'(x_i)"
   ]
  },
  {
   "cell_type": "code",
   "execution_count": null,
   "id": "prospective-bread",
   "metadata": {},
   "outputs": [],
   "source": [
    "f_x = f(x_vec[i])\n",
    "f_x_dot = f_dot(x_vec[i])"
   ]
  },
  {
   "cell_type": "markdown",
   "id": "front-million",
   "metadata": {},
   "source": [
    "Calculando \n",
    "$x_{i+1} =x_i - \\frac{f(x_i)}{f'(x_i)}$"
   ]
  },
  {
   "cell_type": "code",
   "execution_count": null,
   "id": "verified-monster",
   "metadata": {},
   "outputs": [],
   "source": [
    "x_i_1 = x_vec[i]-(f_x/f_x_dot)"
   ]
  },
  {
   "cell_type": "markdown",
   "id": "consolidated-amino",
   "metadata": {},
   "source": [
    "Agregando $x_{i+1}$ al vector 'x_vec'"
   ]
  },
  {
   "cell_type": "code",
   "execution_count": null,
   "id": "certified-layout",
   "metadata": {},
   "outputs": [],
   "source": [
    "x_vec.append(x_i_1)"
   ]
  },
  {
   "cell_type": "markdown",
   "id": "insured-hamburg",
   "metadata": {},
   "source": [
    "Calculando el error $e = \\big|x_{i+1}-x_i\\big|$ y agregándolo al vector de errores"
   ]
  },
  {
   "cell_type": "code",
   "execution_count": null,
   "id": "transsexual-variable",
   "metadata": {},
   "outputs": [],
   "source": [
    "e = abs(x_vec[i+1] - x_vec[i])\n",
    "e_vec.append(e)"
   ]
  },
  {
   "cell_type": "markdown",
   "id": "appropriate-check",
   "metadata": {},
   "source": [
    "Imprimiendo el vector x_vec y e_vec"
   ]
  },
  {
   "cell_type": "code",
   "execution_count": null,
   "id": "democratic-civilization",
   "metadata": {},
   "outputs": [],
   "source": [
    "print(x_vec)\n",
    "print(e_vec)"
   ]
  },
  {
   "cell_type": "markdown",
   "id": "sound-abortion",
   "metadata": {},
   "source": [
    "Ya que en la variable i se está llevando el índice de las iteraciones, aumentamos en uno para hacer la siguiente iteración "
   ]
  },
  {
   "cell_type": "code",
   "execution_count": null,
   "id": "experienced-relevance",
   "metadata": {},
   "outputs": [],
   "source": [
    "i = i + 1"
   ]
  },
  {
   "cell_type": "code",
   "execution_count": null,
   "id": "played-payroll",
   "metadata": {},
   "outputs": [],
   "source": []
  },
  {
   "cell_type": "code",
   "execution_count": null,
   "id": "worthy-bedroom",
   "metadata": {},
   "outputs": [],
   "source": []
  },
  {
   "cell_type": "code",
   "execution_count": null,
   "id": "improving-recommendation",
   "metadata": {},
   "outputs": [],
   "source": []
  }
 ],
 "metadata": {
  "kernelspec": {
   "display_name": "Python 3",
   "language": "python",
   "name": "python3"
  },
  "language_info": {
   "codemirror_mode": {
    "name": "ipython",
    "version": 3
   },
   "file_extension": ".py",
   "mimetype": "text/x-python",
   "name": "python",
   "nbconvert_exporter": "python",
   "pygments_lexer": "ipython3",
   "version": "3.8.6"
  }
 },
 "nbformat": 4,
 "nbformat_minor": 5
}
